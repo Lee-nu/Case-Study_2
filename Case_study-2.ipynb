{
 "cells": [
  {
   "cell_type": "markdown",
   "id": "a4cc6e4b",
   "metadata": {},
   "source": [
    "# 1. Find out how many males and females participated in the test.\n"
   ]
  },
  {
   "cell_type": "code",
   "execution_count": 12,
   "id": "0d5bb5f0",
   "metadata": {},
   "outputs": [
    {
     "name": "stdout",
     "output_type": "stream",
     "text": [
      "Male Participated in the Test\n",
      "482\n",
      "Female Participated in the Test\n",
      "518\n"
     ]
    }
   ],
   "source": [
    "import pandas as pd\n",
    "import pandas as pd\n",
    "import matplotlib.pyplot as plt\n",
    "import seaborn as sns\n",
    "\n",
    "\n",
    "data1=pd.read_csv(\"C:/Users/VN582EN/Downloads/StudentsPerformance.csv\")\n",
    "\n",
    "print(\"Male Participated in the Test\")\n",
    "a = print(data1['gender'].value_counts()['male'])\n",
    "print(\"Female Participated in the Test\")\n",
    "b = print(data1['gender'].value_counts()['female'])"
   ]
  },
  {
   "cell_type": "markdown",
   "id": "d3956107",
   "metadata": {},
   "source": [
    "# 2. What do you think about the students' parental level of education?"
   ]
  },
  {
   "cell_type": "code",
   "execution_count": 6,
   "id": "99f45b3c",
   "metadata": {},
   "outputs": [
    {
     "data": {
      "text/plain": [
       "<AxesSubplot:xlabel='parental level of education', ylabel='count'>"
      ]
     },
     "execution_count": 6,
     "metadata": {},
     "output_type": "execute_result"
    },
    {
     "data": {
      "image/png": "[encoded data removed]",
      "text/plain": [
       "<Figure size 864x648 with 1 Axes>"
      ]
     },
     "metadata": {
      "needs_background": "light"
     },
     "output_type": "display_data"
    }
   ],
   "source": [
    "plt.figure(figsize=(12,9))\n",
    "sns.countplot(\"parental level of education\", data=data1, hue = 'gender')\n"
   ]
  },
  {
   "cell_type": "markdown",
   "id": "5152d3aa",
   "metadata": {},
   "source": [
    "# 3. Who scores the most on average for math, reading and writing based on\n",
    "     ● Gender\n",
    "     ● Test preparation course\n"
   ]
  },
  {
   "cell_type": "code",
   "execution_count": 7,
   "id": "0cb6b85d",
   "metadata": {},
   "outputs": [
    {
     "name": "stdout",
     "output_type": "stream",
     "text": [
      "        math score  reading score  writing score\n",
      "gender                                          \n",
      "female   63.376448      72.590734      72.467181\n",
      "male     68.821577      65.545643      63.446058\n",
      "\n",
      "                         math score  reading score  writing score\n",
      "test preparation course                                          \n",
      "completed                  69.96648      74.175978      74.684358\n",
      "none                       63.78972      66.417445      64.457944\n"
     ]
    }
   ],
   "source": [
    "import statistics\n",
    "\n",
    "a = data[['gender','math score', 'reading score','writing score']].groupby('gender').mean()\n",
    "print(a)\n",
    "\n",
    "print(\"\")\n",
    "\n",
    "b = data[['test preparation course','math score', 'reading score','writing score']].groupby('test preparation course').mean()\n",
    "print(b)  "
   ]
  },
  {
   "cell_type": "markdown",
   "id": "5fc3c557",
   "metadata": {},
   "source": [
    "# 4.What do you think about the scoring variation for math, reading and writing based on\n",
    "    ● Gender\n",
    "    ● Test preparation course"
   ]
  },
  {
   "cell_type": "code",
   "execution_count": 8,
   "id": "e774629b",
   "metadata": {},
   "outputs": [
    {
     "name": "stdout",
     "output_type": "stream",
     "text": [
      "        math score  reading score  writing score\n",
      "gender                                          \n",
      "female   16.029928      14.411018      14.844842\n",
      "male     14.556411      14.149594      14.227225\n",
      "\n",
      "                         math score  reading score  writing score\n",
      "test preparation course                                          \n",
      "completed                 14.521847      13.537572      13.236412\n",
      "none                      15.705689      14.608896      15.041667\n"
     ]
    }
   ],
   "source": [
    "a = data[['gender','math score', 'reading score','writing score']].groupby('gender').std()\n",
    "print(a)\n",
    "\n",
    "print(\"\")\n",
    "\n",
    "b = data[['test preparation course','math score', 'reading score','writing score']].groupby('test preparation course').std()\n",
    "print(b) "
   ]
  },
  {
   "cell_type": "markdown",
   "id": "afe21a9f",
   "metadata": {},
   "source": [
    "# 5. The management needs your help to give bonus points to the top 25% of students based on their maths score, so how will you help the managementto achieve this."
   ]
  },
  {
   "cell_type": "code",
   "execution_count": 11,
   "id": "45997e2a",
   "metadata": {},
   "outputs": [
    {
     "name": "stdout",
     "output_type": "stream",
     "text": [
      "\u001b[31mTop 25% of students\u001b[m\n",
      "\n",
      "     gender race/ethnicity parental level of education         lunch  \\\n",
      "999    male        group E           bachelor's degree      standard   \n",
      "996    male        group A                some college      standard   \n",
      "515  female        group E                some college      standard   \n",
      "517  female        group E          associate's degree      standard   \n",
      "516  female        group E           bachelor's degree      standard   \n",
      "..      ...            ...                         ...           ...   \n",
      "856    male        group E            some high school      standard   \n",
      "855    male        group E          associate's degree  free/reduced   \n",
      "854    male        group D            some high school      standard   \n",
      "853    male        group D          associate's degree  free/reduced   \n",
      "852    male        group D                some college  free/reduced   \n",
      "\n",
      "    test preparation course  math score  reading score  writing score  \n",
      "999               completed         100            100            100  \n",
      "996               completed         100             96             86  \n",
      "515                    none         100             92             97  \n",
      "517                    none         100            100            100  \n",
      "516                    none         100            100            100  \n",
      "..                      ...         ...            ...            ...  \n",
      "856               completed          77             76             77  \n",
      "855               completed          77             69             68  \n",
      "854               completed          77             68             69  \n",
      "853                    none          77             78             73  \n",
      "852                    none          77             62             64  \n",
      "\n",
      "[250 rows x 8 columns]\n"
     ]
    }
   ],
   "source": [
    "a=data.sort_values('math score',ascending=False).head(int(data.shape[0]*.25))\n",
    "\n",
    "class colors:\n",
    "    RED = '\\033[31m'\n",
    "    ENDC = '\\033[m'\n",
    "    GREEN = '\\033[32m'\n",
    "    YELLOW = '\\033[33m'\n",
    "    BLUE = '\\033[34m'\n",
    "\n",
    "print(colors.RED + \"Top 25% of students\" + colors.ENDC)\n",
    "print(\"\")\n",
    "print(a)"
   ]
  }
 ],
 "metadata": {
  "kernelspec": {
   "display_name": "Python 3 (ipykernel)",
   "language": "python",
   "name": "python3"
  },
  "language_info": {
   "codemirror_mode": {
    "name": "ipython",
    "version": 3
   },
   "file_extension": ".py",
   "mimetype": "text/x-python",
   "name": "python",
   "nbconvert_exporter": "python",
   "pygments_lexer": "ipython3",
   "version": "3.9.12"
  }
 },
 "nbformat": 4,
 "nbformat_minor": 5
}
